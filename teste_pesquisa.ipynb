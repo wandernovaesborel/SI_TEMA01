{
  "nbformat": 4,
  "nbformat_minor": 0,
  "metadata": {
    "colab": {
      "provenance": [],
      "authorship_tag": "ABX9TyPCO2CyDKxQOyvhPPvzxQCw",
      "include_colab_link": true
    },
    "kernelspec": {
      "name": "python3",
      "display_name": "Python 3"
    },
    "language_info": {
      "name": "python"
    }
  },
  "cells": [
    {
      "cell_type": "markdown",
      "metadata": {
        "id": "view-in-github",
        "colab_type": "text"
      },
      "source": [
        "<a href=\"https://colab.research.google.com/github/wandernovaesborel/SI_TEMA01/blob/main/teste_pesquisa.ipynb\" target=\"_parent\"><img src=\"https://colab.research.google.com/assets/colab-badge.svg\" alt=\"Open In Colab\"/></a>"
      ]
    },
    {
      "cell_type": "code",
      "execution_count": 3,
      "metadata": {
        "colab": {
          "base_uri": "https://localhost:8080/"
        },
        "id": "08xIrPMh7Ocs",
        "outputId": "6752d01c-519e-4f73-9945-b9fb6fc46482"
      },
      "outputs": [
        {
          "output_type": "stream",
          "name": "stdout",
          "text": [
            "Tópicos correlatos e sinônimos para o termo de pesquisa 'Inspell Softwares':\n",
            "1. https://www.inspell.com.br/\n",
            "2. http://www.inspell.com.br/aut.php\n",
            "3. https://www.inspell.com.br/form_contato.php\n",
            "4. https://inspell.com.br/controle_acesso.php\n",
            "5. https://www.inspell.com.br/form_suporte.php\n",
            "6. https://www.cbinsights.com/company/inspell-softwares\n"
          ]
        }
      ],
      "source": [
        "# Instala a biblioteca googlesearch-python\n",
        "#!pip install google\n",
        "\n",
        "# Importa a classe search da biblioteca googlesearch\n",
        "from googlesearch import search\n",
        "\n",
        "# Termo de pesquisa\n",
        "termo_pesquisa = \"Inspell Softwares\"\n",
        "\n",
        "# Realiza a pesquisa no Google e armazena os resultados\n",
        "resultados = search(termo_pesquisa, num=6, stop=6, pause=2)\n",
        "\n",
        "# Exibe os tópicos correlatos e sinônimos encontrados nos resultados da pesquisa\n",
        "print(\"Tópicos correlatos e sinônimos para o termo de pesquisa '\" + termo_pesquisa + \"':\")\n",
        "for idx, resultado in enumerate(resultados):\n",
        "    print(f\"{idx + 1}. {resultado}\")"
      ]
    }
  ]
}