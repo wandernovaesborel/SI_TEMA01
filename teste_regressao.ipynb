{
  "nbformat": 4,
  "nbformat_minor": 0,
  "metadata": {
    "colab": {
      "provenance": [],
      "authorship_tag": "ABX9TyOoJ6eGqdwD42ywvRK7VKdf",
      "include_colab_link": true
    },
    "kernelspec": {
      "name": "python3",
      "display_name": "Python 3"
    },
    "language_info": {
      "name": "python"
    }
  },
  "cells": [
    {
      "cell_type": "markdown",
      "metadata": {
        "id": "view-in-github",
        "colab_type": "text"
      },
      "source": [
        "<a href=\"https://colab.research.google.com/github/wandernovaesborel/SI_TEMA01/blob/main/teste_regressao.ipynb\" target=\"_parent\"><img src=\"https://colab.research.google.com/assets/colab-badge.svg\" alt=\"Open In Colab\"/></a>"
      ]
    },
    {
      "cell_type": "code",
      "execution_count": 1,
      "metadata": {
        "colab": {
          "base_uri": "https://localhost:8080/"
        },
        "id": "Gg3qB16Q98za",
        "outputId": "990c83ad-5989-47ee-ae05-d4fd91ecc2a1"
      },
      "outputs": [
        {
          "output_type": "stream",
          "name": "stderr",
          "text": [
            "/usr/local/lib/python3.10/dist-packages/keras/src/layers/core/dense.py:87: UserWarning: Do not pass an `input_shape`/`input_dim` argument to a layer. When using Sequential models, prefer using an `Input(shape)` object as the first layer in the model instead.\n",
            "  super().__init__(activity_regularizer=activity_regularizer, **kwargs)\n"
          ]
        },
        {
          "output_type": "stream",
          "name": "stdout",
          "text": [
            "\u001b[1m1/1\u001b[0m \u001b[32m━━━━━━━━━━━━━━━━━━━━\u001b[0m\u001b[37m\u001b[0m \u001b[1m0s\u001b[0m 44ms/step\n",
            "[[1.0934441]\n",
            " [1.060296 ]]\n"
          ]
        }
      ],
      "source": [
        "import numpy as np\n",
        "import pandas as pd\n",
        "import tensorflow as tf\n",
        "from sklearn.preprocessing import MinMaxScaler\n",
        "\n",
        "# Dados\n",
        "data = {\n",
        "    'ID': [1, 2, 3, 4, 5, 6, 7, 8],\n",
        "    'HorasEstudo': [12, 22, 115, 31, 0, 5, 92, 57],\n",
        "    'HorasSono': [6, 6.5, 4, 9, 10, 8, 6, 8],\n",
        "    'Simulado': [0.78, 0.24, 1.0, 0.67, 0.58, 0.78, 0.82, 0.91],\n",
        "    'Prova': [0.93, 0.68, 0.95, 0.75, 0.51, 0.60, None, None]\n",
        "}\n",
        "\n",
        "df = pd.DataFrame(data)\n",
        "\n",
        "# Normalizando os dados\n",
        "scaler = MinMaxScaler()\n",
        "scaled_data = scaler.fit_transform(df[['HorasEstudo', 'HorasSono', 'Simulado', 'Prova']])\n",
        "df[['HorasEstudo', 'HorasSono', 'Simulado', 'Prova']] = scaled_data\n",
        "\n",
        "# Dividindo os dados em features e target\n",
        "X_train = df[['HorasEstudo', 'HorasSono', 'Simulado']].values[:6]\n",
        "y_train = df['Prova'].values[:6]\n",
        "\n",
        "X_test = df[['HorasEstudo', 'HorasSono', 'Simulado']].values[6:]\n",
        "y_test = df['Prova'].values[6:]\n",
        "\n",
        "# Definindo o modelo\n",
        "model = tf.keras.Sequential([\n",
        "    tf.keras.layers.Dense(10, activation='relu', input_shape=(3,)),\n",
        "    tf.keras.layers.Dense(1)\n",
        "])\n",
        "\n",
        "model.compile(optimizer='adam', loss='mean_squared_error')\n",
        "\n",
        "# Treinando o modelo\n",
        "model.fit(X_train, y_train, batch_size=2, epochs=1000, verbose=0)\n",
        "\n",
        "# Fazendo previsões\n",
        "predictions = model.predict(X_test)\n",
        "print(predictions)\n"
      ]
    }
  ]
}